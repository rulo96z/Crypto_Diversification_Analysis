{
 "cells": [
  {
   "cell_type": "code",
   "execution_count": 1,
   "id": "34cd1efa-430e-4c9b-90db-8fb8df0e70e7",
   "metadata": {},
   "outputs": [],
   "source": [
    "#Imports\n",
    "import pandas as pd\n",
    "import alpaca_trade_api as tradeapi\n",
    "import os\n",
    "import json\n",
    "from dotenv import load_dotenv"
   ]
  },
  {
   "cell_type": "code",
   "execution_count": 2,
   "id": "11445d76-5250-49e3-b4e4-c7b3a771433a",
   "metadata": {},
   "outputs": [],
   "source": [
    "# Load the environment variables from the .env file by calling the load_dotenv function\n",
    "load_dotenv()"
   ]
  },
  {
   "cell_type": "code",
   "execution_count": 3,
   "id": "72fba169-7579-4f2f-9f79-bb77d6af9afb",
   "metadata": {},
   "outputs": [],
   "source": [
    "# Set the variables for the Alpaca API and secret keys\n",
    "alpaca_api_key = os.getenv(\"ALPACA_API_KEY\")\n",
    "alpaca_secret_key = os.getenv(\"ALPACA_SECRET_KEY\")\n",
    "\n",
    "# The Alpaca tradeapi.REST object\n",
    "alpaca = tradeapi.REST(\n",
    "    alpaca_api_key,\n",
    "    alpaca_secret_key,\n",
    "    api_version=\"v2\")"
   ]
  },
  {
   "cell_type": "code",
   "execution_count": null,
   "id": "88fc7d6d-eaaa-4ddb-838e-4aa3a2a3309f",
   "metadata": {},
   "outputs": [],
   "source": [
    "#Set Tickers for stocks and crypto for analysis only looking at top 10 existing for at least 4 years\n",
    "stock_tickers = ['MSFT','AAPL','TSLA','AMZN','NVDA','GOOG','FB','ADBE','NFLX','PYPL']\n",
    "crypto_tickers = ['BTC','ETH','BNB','ADA','XRP','DOGE','LTC','LINK','BCH','XLM']"
   ]
  },
  {
   "cell_type": "code",
   "execution_count": null,
   "id": "e1fb5033",
   "metadata": {},
   "outputs": [],
   "source": [
    "# The Alpaca Parameters for timeframe and daterange\n",
    "# `today` is a timestamp using Pandas Timestamp\n",
    "# `four_years_ago` is calculated using Pandas Timestamp and Timedelta\n",
    "timeframe = '1D'\n",
    "years = 4\n",
    "today = pd.Timestamp.now(tz=\"America/New_York\")\n",
    "four_years_ago = pd.Timestamp(today - pd.Timedelta(days=365*years)).isoformat()\n",
    "\n",
    "# Use the Alpaca get_barset function to get the closing prices for the stocks.\n",
    "stock_prices_df = alpaca.get_barset(\n",
    "    stock_tickers,\n",
    "    timeframe,\n",
    "    start=today.isoformat(),\n",
    "    end=five_years_ago,\n",
    "    limit=1000\n",
    ").df"
   ]
  }
 ],
 "metadata": {
  "kernelspec": {
   "display_name": "dev",
   "language": "python",
   "name": "dev"
  },
  "language_info": {
   "codemirror_mode": {
    "name": "ipython",
    "version": 3
   },
   "file_extension": ".py",
   "mimetype": "text/x-python",
   "name": "python",
   "nbconvert_exporter": "python",
   "pygments_lexer": "ipython3",
   "version": "3.7.10"
  }
 },
 "nbformat": 4,
 "nbformat_minor": 5
}
