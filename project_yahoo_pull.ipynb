{
 "cells": [
  {
   "cell_type": "code",
   "execution_count": null,
   "id": "34cd1efa-430e-4c9b-90db-8fb8df0e70e7",
   "metadata": {},
   "outputs": [],
   "source": [
    "#Imports\n",
    "import pandas as pd\n",
    "import matplotlib.pyplot as plt\n",
    "import time\n",
    "import datetime\n",
    "from pathlib import Path\n",
    "import hvplot.pandas\n",
    "import seaborn as sns\n",
    "%matplotlib inline"
   ]
  },
  {
   "cell_type": "code",
   "execution_count": null,
   "id": "88fc7d6d-eaaa-4ddb-838e-4aa3a2a3309f",
   "metadata": {},
   "outputs": [],
   "source": [
    "#Set Tickers for stocks and crypto for analysis only looking at top 10 existing for at least 4 years\n",
    "stock_tickers = ['MSFT','AAPL','TSLA','AMZN','NVDA','GOOG','FB','ADBE','NFLX','PYPL']\n",
    "crypto_tickers = ['BTC-USD','ETH-USD','BNB-USD','ADA-USD','XRP-USD','DOGE-USD','LTC-USD','LINK-USD','BCH-USD','XLM-USD']\n",
    "sp500 = ['^GSPC']"
   ]
  },
  {
   "cell_type": "code",
   "execution_count": null,
   "id": "cb661db0-abfa-447f-8aa8-dab1c640dfbf",
   "metadata": {},
   "outputs": [],
   "source": [
    "#set tickers and parameters\n",
    "tickers = stock_tickers + crypto_tickers + sp500\n",
    "#1 day interal for data\n",
    "interval= '1d'\n",
    "#time to obtain data from y,m,d,hour,minute\n",
    "period1 = int(time.mktime(datetime.datetime(2014, 11, 1, 23, 59).timetuple()))\n",
    "period2 = int(time.mktime(datetime.datetime(2021, 11, 16, 23, 59).timetuple()))"
   ]
  },
  {
   "cell_type": "code",
   "execution_count": null,
   "id": "4f7ad5c1-9672-42aa-bfbf-4223a9f75e74",
   "metadata": {},
   "outputs": [],
   "source": [
    "#loop through tickers to get close data from historical data\n",
    "close_df = pd.DataFrame()\n",
    "for ticker in tickers:\n",
    "    query_string = f'https://query1.finance.yahoo.com/v7/finance/download/{ticker}?period1={period1}&period2={period2}&interval={interval}&events=history&includeAdjustedClose=True'\n",
    "    df = pd.read_csv(query_string)\n",
    "    df = df.set_index('Date')\n",
    "    close_df[f'{ticker}'] = df['Close']"
   ]
  },
  {
   "cell_type": "code",
   "execution_count": null,
   "id": "0501fa00-9b8d-4e56-bbe8-de5317432adf",
   "metadata": {},
   "outputs": [],
   "source": [
    "#drop na values\n",
    "close_df = close_df.dropna()\n",
    "close_df.head()"
   ]
  },
  {
   "cell_type": "code",
   "execution_count": null,
   "id": "e78893e2-e7e8-42fd-a705-647018049ffe",
   "metadata": {},
   "outputs": [],
   "source": [
    "#calculate daily return for all tickers\n",
    "daily_df = close_df.pct_change().dropna()\n",
    "daily_df"
   ]
  },
  {
   "cell_type": "code",
   "execution_count": null,
   "id": "f41d7d0e-235d-459a-bea0-b594577e5db9",
   "metadata": {},
   "outputs": [],
   "source": [
    "daily_df[crypto_tickers].multiply(100).hvplot.line(title=\"Daily Returns\", xlabel ='Date', ylabel='%Change')+daily_df[stock_tickers].multiply(100).hvplot.line(title=\"Daily Returns\", xlabel ='Date', ylabel='%Change')+daily_df[sp500].multiply(100).hvplot.line(title=\"Daily Returns\", xlabel ='Date', ylabel='%Change')"
   ]
  },
  {
   "cell_type": "code",
   "execution_count": null,
   "id": "60071662-0908-401f-86a3-74503ca38f40",
   "metadata": {},
   "outputs": [],
   "source": [
    "#Calculate Standard Deviation tickers\n",
    "std_tickers = daily_df.std()\n",
    "std_tickers"
   ]
  },
  {
   "cell_type": "code",
   "execution_count": null,
   "id": "40286a49-c010-4377-ae10-fe0562a277e8",
   "metadata": {},
   "outputs": [],
   "source": [
    "# Plot standard deviation for stocks and crypto\n",
    "stocks_sd_plot = std_tickers[stock_tickers].hvplot.bar(\n",
    "    xlabel='Stock/Crypto',\n",
    "    rot=90,\n",
    "    color='blue',    \n",
    "    title='Standard Deviation for the Top 10 Tech Stocks and Cryptos')\n",
    "crypto_sd_plot = std_tickers[crypto_tickers].hvplot.bar(\n",
    "    rot=90,\n",
    "    color='red')\n",
    "\n",
    "stocks_sd_plot * crypto_sd_plot * std_tickers[sp500].hvplot.bar(\n",
    "    rot=90,\n",
    "    color='green')"
   ]
  },
  {
   "cell_type": "code",
   "execution_count": null,
   "id": "7a7a8300-52b5-40da-897e-70092ddbde46",
   "metadata": {},
   "outputs": [],
   "source": [
    "daily_df.hvplot.box(\n",
    "    rot=90,\n",
    "    title='Daily Returns Data for the Top 10 Tech Stocks and Cryptos')"
   ]
  },
  {
   "cell_type": "code",
   "execution_count": null,
   "id": "bf00dd05-e14a-446b-92e9-2370a4a050c9",
   "metadata": {},
   "outputs": [],
   "source": [
    "#calculate annual standard deviation for tickers\n",
    "trading_days = 252\n",
    "annual_std_tickers = std_tickers * trading_days ** (1/2)\n",
    "annual_std_tickers"
   ]
  },
  {
   "cell_type": "code",
   "execution_count": null,
   "id": "976412a3-a843-4715-bca1-cd1d053d229a",
   "metadata": {},
   "outputs": [],
   "source": [
    "# Calculate the annual average return data for tickers\n",
    "annual_avg_return_tickers = daily_df.mean()* trading_days\n",
    "\n",
    "annual_avg_return_tickers"
   ]
  },
  {
   "cell_type": "code",
   "execution_count": null,
   "id": "16c761a8-0651-41af-8a08-b8eb8e54be3e",
   "metadata": {},
   "outputs": [],
   "source": [
    "annual_avg_return_tickers[stock_tickers].hvplot.bar(title='Annual Average Returns', ylabel='Annual AVG Return', rot=90, color='blue')*annual_avg_return_tickers[crypto_tickers].hvplot.bar(title='Annual Average Returns', ylabel='Annual AVG Return', rot=90, color='red')*annual_avg_return_tickers[sp500].hvplot.bar(title='Annual Average Returns', ylabel='Annual AVG Return', rot=90, color='green')"
   ]
  },
  {
   "cell_type": "code",
   "execution_count": null,
   "id": "514a78bc-f8b3-42b9-8f4e-02b7cd06e2a4",
   "metadata": {},
   "outputs": [],
   "source": [
    "# Calculate the annualized Sharpe Ratios for tickers\n",
    "annual_sharpe_ratio_tickers = annual_avg_return_tickers/annual_std_tickers\n",
    "\n",
    "annual_sharpe_ratio_tickers"
   ]
  },
  {
   "cell_type": "code",
   "execution_count": null,
   "id": "3510779b-0e84-4548-92d5-c83a8df46fc6",
   "metadata": {},
   "outputs": [],
   "source": [
    "# Plot annualized Sharpe Ratios for stocks and crypto\n",
    "stocks_sharpe_plot = annual_sharpe_ratio_tickers[stock_tickers].hvplot.bar(\n",
    "    xlabel='Stock/Crypto',\n",
    "    rot=90,\n",
    "    color='blue',    \n",
    "    title='Sharpe Ratios for the Top 10 Tech Stocks and Cryptos')\n",
    "crypto_sharpe_plot = annual_sharpe_ratio_tickers[crypto_tickers].hvplot.bar(\n",
    "    rot=90,\n",
    "    color='red')\n",
    "\n",
    "stocks_sharpe_plot * crypto_sharpe_plot * annual_sharpe_ratio_tickers[sp500].hvplot.bar(\n",
    "    rot=90,\n",
    "    color='green')"
   ]
  },
  {
   "cell_type": "code",
   "execution_count": null,
   "id": "0e3042b7-a50a-4660-838f-e33b77cee1d6",
   "metadata": {},
   "outputs": [],
   "source": [
    "#for loop to calculate covariance (30day) for each crypto to each stock\n",
    "covariance_crypto_stock_df = pd.DataFrame()\n",
    "\n",
    "for stock in stock_tickers:\n",
    "    for crypto in crypto_tickers:\n",
    "        covariance_crypto_stock_df[f'{crypto} cov {stock}'] = daily_df[f'{crypto}'].rolling(window=30).cov(daily_df[f'{stock}'])\n",
    "        \n",
    "covariance_crypto_stock_df = covariance_crypto_stock_df.dropna()\n",
    "covariance_crypto_stock_df.head()"
   ]
  },
  {
   "cell_type": "code",
   "execution_count": null,
   "id": "0b1e7a5f-1345-419a-aa99-2489df3ed059",
   "metadata": {},
   "outputs": [],
   "source": [
    "#for loop to calculate covariance (30day) for each ticker to market(^GSPC)\n",
    "covariance_market_df = pd.DataFrame()\n",
    "\n",
    "for ticker in tickers:\n",
    "        covariance_market_df[f'{ticker}'] = daily_df[f'{ticker}'].rolling(window=30).cov(daily_df[f'{sp500[0]}'])\n",
    "        \n",
    "covariance_market_df = covariance_market_df.dropna()\n",
    "covariance_market_df.head()"
   ]
  },
  {
   "cell_type": "code",
   "execution_count": null,
   "id": "45de7eb9-3d7d-4618-87b8-30779eadf610",
   "metadata": {},
   "outputs": [],
   "source": [
    "#for loop to calculate covariance (30day) for each stock to each crypto\n",
    "covariance_stock_crypto_df = pd.DataFrame()\n",
    "\n",
    "for crypto in crypto_tickers:\n",
    "    for stock in stock_tickers:\n",
    "        covariance_stock_crypto_df[f'{stock} cov {crypto}'] = daily_df[f'{stock}'].rolling(window=30).cov(daily_df[f'{crypto}'])\n",
    "        \n",
    "covariance_stock_crypto_df = covariance_stock_crypto_df.dropna()\n",
    "covariance_stock_crypto_df.head()"
   ]
  },
  {
   "cell_type": "code",
   "execution_count": null,
   "id": "5dd1f19c-b27e-4d19-8ca6-27c217c791c3",
   "metadata": {},
   "outputs": [],
   "source": [
    "#create function to group cov data by ticker stock or crypto.\n",
    "def s_value(df, listmain, listrun):\n",
    "    plots = {}\n",
    "    for name in listmain:\n",
    "        value = []\n",
    "        for out in listrun:\n",
    "            string = f\"{name} cov {out}\"\n",
    "            value.append(string)\n",
    "        plots[f\"{name}\"] = df[value].hvplot.scatter(title=f'{name} Covariance', xlabel='Date', ylabel='Covariance')\n",
    "    return plots"
   ]
  },
  {
   "cell_type": "code",
   "execution_count": null,
   "id": "67dfdea6-191c-4e64-a049-647040ab3772",
   "metadata": {},
   "outputs": [],
   "source": [
    "#call created function\n",
    "cs_cov_plot = s_value(covariance_crypto_stock_df, crypto_tickers, stock_tickers)"
   ]
  },
  {
   "cell_type": "code",
   "execution_count": null,
   "id": "36a6afe3-b2a5-4523-ab46-056306d75b52",
   "metadata": {},
   "outputs": [],
   "source": [
    "#view plots\n",
    "cs_cov_plot['BTC-USD']+cs_cov_plot['ETH-USD']+cs_cov_plot['BNB-USD']+cs_cov_plot['ADA-USD']+cs_cov_plot['XRP-USD']+cs_cov_plot['LTC-USD']+cs_cov_plot['LINK-USD']+cs_cov_plot['BCH-USD']+cs_cov_plot['XLM-USD']+cs_cov_plot['DOGE-USD']"
   ]
  },
  {
   "cell_type": "code",
   "execution_count": null,
   "id": "ec61bbe0-290d-43d4-8798-e3e3d524475d",
   "metadata": {},
   "outputs": [],
   "source": [
    "#call created function\n",
    "sc_cov_plot = s_value(covariance_stock_crypto_df, stock_tickers, crypto_tickers)"
   ]
  },
  {
   "cell_type": "code",
   "execution_count": null,
   "id": "e84bc4e6-bfd9-40a3-8dbe-4f78a4aea28c",
   "metadata": {},
   "outputs": [],
   "source": [
    "sc_cov_plot['MSFT']+sc_cov_plot['AAPL']+sc_cov_plot['TSLA']+sc_cov_plot['AMZN']+sc_cov_plot['NVDA']+sc_cov_plot['GOOG']+sc_cov_plot['FB']+sc_cov_plot['ADBE']+sc_cov_plot['NFLX']+sc_cov_plot['PYPL']"
   ]
  },
  {
   "cell_type": "code",
   "execution_count": null,
   "id": "948e857a-5b12-4a8a-b47c-3e4e11a1814b",
   "metadata": {},
   "outputs": [],
   "source": [
    "covariance_market_df[crypto_tickers].hvplot.scatter(title='Covariance to S&P 500 for Top 10 Cryptos')+covariance_market_df[stock_tickers].hvplot.scatter(title='Covariance to S&P 500 for Top 10 Stocks')"
   ]
  },
  {
   "cell_type": "code",
   "execution_count": null,
   "id": "6653035f-0e11-4123-96e2-8bb1ff6c694c",
   "metadata": {
    "tags": []
   },
   "outputs": [],
   "source": [
    "#correlation between stocks and crypto sp500\n",
    "price_correlation = close_df.corr()\n",
    "price_correlation"
   ]
  },
  {
   "cell_type": "code",
   "execution_count": null,
   "id": "234db539-71c4-425b-bd70-61259b6d9e6b",
   "metadata": {},
   "outputs": [],
   "source": [
    "#heatmap to visulalize correlation\n",
    "fig, ax = plt.subplots(figsize=(15,10))\n",
    "sns.heatmap(price_correlation, vmin=-1, vmax=1, cmap=\"mako\", ax=ax)"
   ]
  },
  {
   "cell_type": "code",
   "execution_count": null,
   "id": "bb437823-0d47-445c-9db4-f7ae2c66e56e",
   "metadata": {},
   "outputs": [],
   "source": []
  }
 ],
 "metadata": {
  "kernelspec": {
   "display_name": "dev",
   "language": "python",
   "name": "dev"
  },
  "language_info": {
   "codemirror_mode": {
    "name": "ipython",
    "version": 3
   },
   "file_extension": ".py",
   "mimetype": "text/x-python",
   "name": "python",
   "nbconvert_exporter": "python",
   "pygments_lexer": "ipython3",
   "version": "3.7.10"
  }
 },
 "nbformat": 4,
 "nbformat_minor": 5
}
